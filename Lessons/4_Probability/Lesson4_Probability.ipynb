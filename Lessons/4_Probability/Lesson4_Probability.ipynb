{
 "cells": [
  {
   "cell_type": "code",
   "execution_count": null,
   "metadata": {
    "collapsed": true
   },
   "outputs": [],
   "source": [
    "%matplotlib inline\n",
    "import matplotlib.pyplot as plt\n",
    "import numpy as np\n",
    "#  from __future__ import division  # Python 2 users uncomment this line"
   ]
  },
  {
   "cell_type": "markdown",
   "metadata": {},
   "source": [
    "# Law of large numbers"
   ]
  },
  {
   "cell_type": "code",
   "execution_count": null,
   "metadata": {
    "collapsed": false
   },
   "outputs": [],
   "source": [
    "# Simulate the toss of a fair coin and plot the proportion of times it comes up \"heads\"\n",
    "# Heads is represented by \"1\", tails by \"0\"\n",
    "heads = np.random.randint(2, size=1000)\n",
    "n_heads = [[n, sum(heads[0:n])/n] for n in range(1, len(heads))]\n",
    "plt.plot(*zip(*n_heads))\n",
    "plt.xlabel(\"Number Coin Flips\")\n",
    "plt.ylabel(\"Proportion Heads\")\n",
    "plt.ylim(0,1)"
   ]
  },
  {
   "cell_type": "markdown",
   "metadata": {},
   "source": [
    "### Exercise\n",
    "Graph the fraction of times a \"3\" is rolled on a fair die as a function of the number of rolls, similar to the above for the coin flip."
   ]
  },
  {
   "cell_type": "markdown",
   "metadata": {},
   "source": [
    "# Probability distributions"
   ]
  },
  {
   "cell_type": "markdown",
   "metadata": {},
   "source": [
    "### Probability distribution for roll of two dice"
   ]
  },
  {
   "cell_type": "code",
   "execution_count": null,
   "metadata": {
    "collapsed": false
   },
   "outputs": [],
   "source": [
    "onedie = range(1,7)\n",
    "twodie = [i+j for i in onedie for j in onedie]\n",
    "plt.hist(twodie, bins=range(1,14), normed=True)\n",
    "plt.xlabel(\"Sum of Two Die\")\n",
    "plt.ylabel(\"Probability\")"
   ]
  },
  {
   "cell_type": "markdown",
   "metadata": {},
   "source": [
    "### Histogram of a sample exercise (2nd round)\n",
    "The example below should get you started, but it needs some work to make the lines and annotations more visible. "
   ]
  },
  {
   "cell_type": "code",
   "execution_count": null,
   "metadata": {
    "collapsed": false
   },
   "outputs": [],
   "source": [
    "def _gauss(x, mu=0, sigma=1):\n",
    "    return 1/(sigma*np.sqrt(2*np.pi)) * np.exp(-0.5*pow((x-mu)/sigma,2))\n",
    "gauss = np.vectorize(_gauss)\n",
    "sample = [np.random.normal() for i in range(100)]\n",
    "x = np.arange(-4,4,0.1)\n",
    "plt.hist(sample, normed=True)\n",
    "plt.plot(x, gauss(x))\n",
    "plt.axvline(x=0)\n",
    "plt.annotate(\"mean\", xy=(0,0))"
   ]
  },
  {
   "cell_type": "markdown",
   "metadata": {
    "collapsed": true
   },
   "source": [
    "# 2-D Random Walk\n",
    "Random walks are used to simulate a great number of processes, such as diffusion and animal foraging behavior. Here we will build a simulation of the classic \"Drunkard's Walk\". The drunkard walks on a two-dimensional lattice, choosing north, south, east, or west with equal probability. \n",
    "\n",
    "I will use this opportunity to show how to write a class in python."
   ]
  },
  {
   "cell_type": "code",
   "execution_count": null,
   "metadata": {
    "collapsed": false
   },
   "outputs": [],
   "source": [
    "class Walker(object):\n",
    "    \"\"\" The base class for a random walker.\"\"\"\n",
    "    def __init__(self, x0=0, y0=0, weights=[1,1,1,1]):\n",
    "        \"\"\" The walker starts at position (x0, y0). At each step he moves]\n",
    "             in a direction [N,E,S,W] with probability proportional to the \n",
    "             weights given.\n",
    "        \"\"\"\n",
    "        self.pos = np.array([x0,y0])\n",
    "        self.prob = np.array(weights)/sum(weights)\n",
    "        # define the directions [N,E,S,W]\n",
    "        self.directions = np.array([[0,1], [1,0], [0,-1], [-1,0]])\n",
    "            \n",
    "    def move(self):\n",
    "        \"\"\" Execute one step and return the new position.\"\"\"\n",
    "        direction = np.random.choice(len(self.prob), p=self.prob)\n",
    "        self.pos += self.directions[direction]\n",
    "        return self.pos\n",
    "            "
   ]
  },
  {
   "cell_type": "code",
   "execution_count": null,
   "metadata": {
    "collapsed": false
   },
   "outputs": [],
   "source": [
    "# Compare the path of the walker shown below with your neighbor.\n",
    "mywalker = Walker()\n",
    "nsteps = 1000\n",
    "walk = [tuple(mywalker.move()) for i in range(nsteps)]\n",
    "plt.plot(*zip(*walk))"
   ]
  },
  {
   "cell_type": "markdown",
   "metadata": {},
   "source": [
    "### Exercise\n",
    "What do you think the expected value of the position of the walker will be after 100 steps?\n",
    "\n",
    "What if you change the probabilities of each direction so they are not all equal? Say there is a strong wind coming from the west, so the walker will choose west 15% of the time, E 35% of the time, N or S each 25%. How will that affect the expected value of the position after 100 steps?\n",
    "\n",
    "Run simulations of the above scenerios and calculate the average position after 100 steps (which tends to the expected value of the position as the number of simulations goes to infinity)."
   ]
  }
 ],
 "metadata": {
  "kernelspec": {
   "display_name": "Python 3",
   "language": "python",
   "name": "python3"
  },
  "language_info": {
   "codemirror_mode": {
    "name": "ipython",
    "version": 3
   },
   "file_extension": ".py",
   "mimetype": "text/x-python",
   "name": "python",
   "nbconvert_exporter": "python",
   "pygments_lexer": "ipython3",
   "version": "3.5.1"
  }
 },
 "nbformat": 4,
 "nbformat_minor": 0
}
