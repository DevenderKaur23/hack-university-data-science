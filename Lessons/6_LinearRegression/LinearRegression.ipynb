{
 "cells": [
  {
   "cell_type": "markdown",
   "metadata": {},
   "source": [
    "# Introduction to Linear Regression\n",
    "Copied and adapted from OpenStats Intro [\"Introduction to Linear Regression\" lab](http://htmlpreview.github.io/?https://github.com/andrewpbray/oiLabs-base-R/blob/master/simple_regression/simple_regression.html), a product of OpenIntro that is released under a [Creative Commons Attribution-ShareAlike 3.0 Unported](http://creativecommons.org/licenses/by-sa/3.0). Original lab was adapted for OpenIntro by Andrew Bray and Mine Çetinkaya-Rundel from a lab written by the faculty and TAs of UCLA Statistics.\n",
    "\n",
    "See the [original](http://htmlpreview.github.io/?https://github.com/andrewpbray/oiLabs-base-R/blob/master/simple_regression/simple_regression.html) for more context and explanation. The [data set](https://www.openintro.org/stat/data/?data=mlb11) contains data from 30 Major League Baseball teams in the 2011 season."
   ]
  },
  {
   "cell_type": "code",
   "execution_count": null,
   "metadata": {
    "collapsed": false
   },
   "outputs": [],
   "source": [
    "%matplotlib inline\n",
    "import matplotlib.pyplot as plt\n",
    "import pandas as pd\n",
    "import numpy as np\n",
    "import statsmodels.api as sm\n",
    "from statsmodels.graphics.gofplots import qqplot "
   ]
  },
  {
   "cell_type": "code",
   "execution_count": null,
   "metadata": {
    "collapsed": false
   },
   "outputs": [],
   "source": [
    "# This cell replicates a function used in the original lab. Run it, but don't dwell on the contents.\n",
    "%matplotlib nbagg\n",
    "class plot_ss:\n",
    "    \"\"\" plot_ss(x, y)\n",
    "        Interactive scatter plot of x,y data. User defines fit line.\n",
    "    \"\"\"\n",
    "    def __init__(self, x, y, showSquares=False):\n",
    "        self.datax = x\n",
    "        self.datay = y\n",
    "        self.showsq = showSquares\n",
    "        \n",
    "        self.linex = []\n",
    "        self.liney = []\n",
    "        \n",
    "        # y = m x + b\n",
    "        self.m = None\n",
    "        self.b = None\n",
    "        #self.m = 0.77 \n",
    "        #self.b = 5032 \n",
    "        \n",
    "        \n",
    "        self.fig = plt.figure()\n",
    "        self.g = self.fig.add_subplot(111)\n",
    "        self.g.scatter(x, y)\n",
    "        self.xlim = self.g.get_xlim()\n",
    "        self.ylim = self.g.get_ylim()\n",
    "        self.g.set_title(\"Click two points to make a line\")\n",
    "        self.fig.canvas.mpl_connect('button_press_event', self.on_press)\n",
    "        #self.residual()\n",
    "\n",
    "    def on_press(self, event):\n",
    "        if len(self.linex) < 2:\n",
    "            x, y = event.xdata, event.ydata\n",
    "            self.g.plot(x, y, 'r*', scalex=False, scaley=False)\n",
    "            self.linex.append(x)\n",
    "            self.liney.append(y)\n",
    "           \n",
    "            if len(self.linex)==2:\n",
    "                xvals = np.linspace(*self.g.get_xlim())\n",
    "                yvals = self.fit_line(xvals)\n",
    "                self.g.plot(xvals, yvals, \"r\", scalex=False, scaley=False)\n",
    "                res2 = self.residual()\n",
    "                self.g.set_title(\"line: y = {:n} x + {:n}; sum of squares = {:n}\".format(self.m, self.b, res2))\n",
    "                \n",
    "        return \n",
    "\n",
    "    def fit_value(self, x):\n",
    "        if self.m is None:\n",
    "            self.m = (self.liney[1] - self.liney[0])/(self.linex[1] - self.linex[0])\n",
    "            self.b = (self.liney[0]*self.linex[1] - self.linex[0]*self.liney[1])/(self.linex[1] - self.linex[0])\n",
    "            print(self.m, self.b)\n",
    "        return self.m * x + self.b\n",
    "    \n",
    "    def fit_line(self, xvals):\n",
    "        print(\"fit_line\")\n",
    "        return [self.fit_value(x) for x in xvals]        \n",
    "    \n",
    "    def residual(self):\n",
    "        res2 = 0\n",
    "        for x,y in zip(self.datax, self.datay):\n",
    "            yhat = self.fit_value(x)\n",
    "            res2 += pow(y-yhat, 2)\n",
    "            self.g.vlines(x, min(y, yhat), max(y, yhat), linestyle=\"--\", color=\"c\")\n",
    "            if self.showsq:\n",
    "                self.squares(x, y, yhat)\n",
    "        self.g.set_xlim(*self.xlim)\n",
    "        self.g.set_ylim(*self.ylim)\n",
    "        return res2\n",
    "    \n",
    "    def squares(self, x, y, yhat):\n",
    "        res = y - yhat\n",
    "        x1 = x - res\n",
    "        self.g.vlines(x1, min(y, yhat), max(y, yhat), linestyle=\":\", color=\"r\")\n",
    "        self.g.hlines(y, min(x, x1), max(x, x1), linestyle=\":\", color=\"r\")\n",
    "        self.g.hlines(yhat, min(x, x1), max(x, x1), linestyle=\":\", color=\"r\")\n",
    "        return\n",
    "        "
   ]
  },
  {
   "cell_type": "markdown",
   "metadata": {},
   "source": [
    "## The data"
   ]
  },
  {
   "cell_type": "code",
   "execution_count": null,
   "metadata": {
    "collapsed": false
   },
   "outputs": [],
   "source": [
    "# load data into dataframe\n",
    "mlb11 = pd.read_csv(\"https://www.openintro.org/stat/data/mlb11.csv\")"
   ]
  },
  {
   "cell_type": "markdown",
   "metadata": {},
   "source": [
    "### Exercise 0\n",
    "Examine the data frame, checking for number of rows and columns, variable names and types, etc."
   ]
  },
  {
   "cell_type": "markdown",
   "metadata": {},
   "source": [
    "In addition to runs scored, there are seven traditionally used variables in the data set: at-bats, hits, home runs, batting average, strikeouts, stolen bases, and wins. There are also three newer variables: on-base percentage, slugging percentage, and on-base plus slugging. For the first portion of the analysis we’ll consider the seven traditional variables. At the end of the lab, you’ll work with the newer variables on your own."
   ]
  },
  {
   "cell_type": "markdown",
   "metadata": {},
   "source": [
    "### Exercise 1\n",
    "What type of plot would you use to display the relationship between `runs` and one of the other numerical variables? Plot this relationship using the variable at_bats as the predictor. Does the relationship look linear? If you knew a team’s `at_bats`, would you be comfortable using a linear model to predict the number of runs?"
   ]
  },
  {
   "cell_type": "markdown",
   "metadata": {},
   "source": [
    "If the relationship looks linear, we can quantify the strength of the relationship with the correlation coefficient."
   ]
  },
  {
   "cell_type": "code",
   "execution_count": null,
   "metadata": {
    "collapsed": false
   },
   "outputs": [],
   "source": [
    "mlb11.runs.corr(mlb11.at_bats)"
   ]
  },
  {
   "cell_type": "markdown",
   "metadata": {},
   "source": [
    "## Sum of squared residuals\n",
    "Think back to the way that we described the distribution of a single variable. Recall that we discussed characteristics such as center, spread, and shape. It’s also useful to be able to describe the relationship of two numerical variables, such as `runs` and `at_bats` above."
   ]
  },
  {
   "cell_type": "markdown",
   "metadata": {},
   "source": [
    "### Exercise 2\n",
    "Looking at your plot from the previous exercise, describe the relationship between these two variables. Make sure to discuss the form, direction, and strength of the relationship as well as any unusual observations."
   ]
  },
  {
   "cell_type": "markdown",
   "metadata": {},
   "source": [
    "Just as we used the mean and standard deviation to summarize a single variable, we can summarize the relationship between these two variables by finding the line that best follows their association. Use the following interactive function to select the line that you think does the best job of going through the cloud of points.\n",
    "\n",
    "After running this command, you’ll be prompted to click two points on the plot to define a line. Once you’ve done that, the line you specified will be shown in black and the residuals in blue. Note that there are 30 residuals, one for each of the 30 observations. Recall that the residuals are the difference between the observed values and the values predicted by the line:\n",
    "\n",
    "$$ e_i = y_i - \\hat{y_i} $$"
   ]
  },
  {
   "cell_type": "code",
   "execution_count": null,
   "metadata": {
    "collapsed": false
   },
   "outputs": [],
   "source": [
    "plot_ss(mlb11.at_bats, mlb11.runs)"
   ]
  },
  {
   "cell_type": "code",
   "execution_count": null,
   "metadata": {
    "collapsed": false
   },
   "outputs": [],
   "source": [
    "plot_ss(mlb11.at_bats, mlb11.runs)"
   ]
  },
  {
   "cell_type": "code",
   "execution_count": null,
   "metadata": {
    "collapsed": false
   },
   "outputs": [],
   "source": [
    "plot_ss(mlb11.at_bats, mlb11.runs)"
   ]
  },
  {
   "cell_type": "markdown",
   "metadata": {},
   "source": [
    "The most common way to do linear regression is to select the line that minimizes the sum of squared residuals. To visualize the squared residuals, you can rerun the plot command and add the argument `showSquares = True`."
   ]
  },
  {
   "cell_type": "code",
   "execution_count": null,
   "metadata": {
    "collapsed": false
   },
   "outputs": [],
   "source": [
    "plot_ss(mlb11.at_bats, mlb11.runs, showSquares=True)"
   ]
  },
  {
   "cell_type": "markdown",
   "metadata": {},
   "source": [
    "Note that the output from the plot_ss function provides you with the slope and intercept of your line as well as the sum of squares."
   ]
  },
  {
   "cell_type": "markdown",
   "metadata": {},
   "source": [
    "### Exercise 3\n",
    "Using `plot_ss`, choose a line that does a good job of minimizing the sum of squares. Run the function several times. What was the smallest sum of squares that you got? How does it compare to your neighbors?"
   ]
  },
  {
   "cell_type": "markdown",
   "metadata": {},
   "source": [
    "## The linear model\n",
    "It is rather cumbersome to try to get the correct least squares line, i.e. the line that minimizes the sum of squared residuals, through trial and error. Instead we can use the `sm.OLS` (ordinary least squares) function from statsmodels library to fit the linear model (a.k.a. regression line)."
   ]
  },
  {
   "cell_type": "code",
   "execution_count": null,
   "metadata": {
    "collapsed": false
   },
   "outputs": [],
   "source": [
    "# Fit a linear model using statsmodels (sm) OLS method. \n",
    "model = sm.OLS(mlb11.runs, sm.add_constant(mlb11.at_bats))"
   ]
  },
  {
   "cell_type": "markdown",
   "metadata": {},
   "source": [
    "The function `sm.OLS` takes the parameters (response_variable, explanatory_variable). If the line is not forced to have a zero-intercept, a constant must be added to the explanatory variable data using the function `sm.add_constant`. The statement above fits a linear model of `mlb11.runs` as a function of `mlb11.at_bats`. \n",
    "\n",
    "The output of the function is an object of the class OLS. The next cell will create a fit and display the summary."
   ]
  },
  {
   "cell_type": "code",
   "execution_count": null,
   "metadata": {
    "collapsed": false
   },
   "outputs": [],
   "source": [
    "results = model.fit()\n",
    "print(results.summary())"
   ]
  },
  {
   "cell_type": "markdown",
   "metadata": {},
   "source": [
    "Let’s consider the pieces of information in this output important to the task at hand. The first line in the left column shows the name dependent (response) variable, we can verify that this is the model we intended. The table in the middle is key; its first column displays the inear model's y-intercept and the coeffients of `at_bats`. With this table, we can write down the least squares regression line for the linear model:\n",
    "\n",
    " $$ \\hat{y} = −2789.2429 + 0.6305 ∗ atbats $$\n",
    "\n",
    "One last piece of information we will discuss from the summary output is the R-squared, or more simply, $R^2$. The $R^2$ value represents the proportion of variability in the response variable that is explained by the explanatory variable. For this model, 37.3% of the variability in runs is explained by at-bats.\n",
    "\n"
   ]
  },
  {
   "cell_type": "markdown",
   "metadata": {},
   "source": [
    "### Exercise 4\n",
    "Fit a new model that uses `homeruns` to predict `runs`. Using the estimates from the output, write the equation of the regression line. What does the slope tell us in the context of the relationship between success of a team and its home runs?"
   ]
  },
  {
   "cell_type": "markdown",
   "metadata": {},
   "source": [
    "## Prediction and prediction errors\n",
    "Let's create a scatter plot with the least squared line laid on top."
   ]
  },
  {
   "cell_type": "code",
   "execution_count": null,
   "metadata": {
    "collapsed": false
   },
   "outputs": [],
   "source": [
    "fig = plt.figure()\n",
    "g = fig.add_subplot(111)\n",
    "g.plot(mlb11.at_bats, results.fittedvalues, 'r')\n",
    "g.scatter(mlb11.at_bats, mlb11.runs)\n",
    "g.set_xlabel(\"at_bats\")\n",
    "g.set_ylabel(\"runs\")"
   ]
  },
  {
   "cell_type": "markdown",
   "metadata": {},
   "source": [
    "The model results object `results` has an attribute `fittedvalues` that is a pandas Series instance with values $\\hat{y}$ for each value of the explanatory variable used to train the model. The line these values describe can be used to predict $y$ at any value of $x$. When predictions are made for values of $x$ that are beyond the range of the observed data, it is referred to as extrapolation and is not usually recommended. However, predictions made within the range of the data are more reliable. They’re also used to compute the residuals."
   ]
  },
  {
   "cell_type": "markdown",
   "metadata": {},
   "source": [
    "### Exercise 5\n",
    "If a team manager saw the least squares regression line and not the actual data, how many runs would he or she predict for a team with 5,578 at-bats? Is this an overestimate or an underestimate, and by how much? In other words, what is the residual for this prediction?"
   ]
  },
  {
   "cell_type": "markdown",
   "metadata": {},
   "source": [
    "## Model diagnostics\n",
    "To assess whether the linear model is reliable, we need to check for (1) linearity, (2) nearly normal residuals, and (3) constant variability.\n",
    "\n",
    "*Linearity*: You already checked if the relationship between runs and at-bats is linear using a scatterplot. We should also verify this condition with a plot of the residuals vs. at-bats. "
   ]
  },
  {
   "cell_type": "code",
   "execution_count": null,
   "metadata": {
    "collapsed": false
   },
   "outputs": [],
   "source": [
    "fig = plt.figure()\n",
    "g = fig.add_subplot(111)\n",
    "g.scatter(mlb11.at_bats, results.resid)\n",
    "# add a horizontal dashed line at y=0\n",
    "g.hlines(0, *g.get_xlim(), linestyles=\"--\")"
   ]
  },
  {
   "cell_type": "markdown",
   "metadata": {},
   "source": [
    "### Exercise 6\n",
    "Is there any apparent pattern in the residuals plot? What does this indicate about the linearity of the relationship between runs and at-bats?"
   ]
  },
  {
   "cell_type": "markdown",
   "metadata": {},
   "source": [
    "*Nearly normal residuals*: To check this condition, we can look at a histogram..."
   ]
  },
  {
   "cell_type": "code",
   "execution_count": null,
   "metadata": {
    "collapsed": false
   },
   "outputs": [],
   "source": [
    "fig = plt.figure()\n",
    "g = fig.add_subplot(111)\n",
    "g.hist(results.resid, bins = np.arange(-150, 225, 50))"
   ]
  },
  {
   "cell_type": "markdown",
   "metadata": {},
   "source": [
    "...or a normal probability plot of the residuals."
   ]
  },
  {
   "cell_type": "code",
   "execution_count": null,
   "metadata": {
    "collapsed": false
   },
   "outputs": [],
   "source": [
    "fig = qqplot(results.resid, line='s') #qqplot displays and returns the figure object"
   ]
  },
  {
   "cell_type": "markdown",
   "metadata": {},
   "source": [
    "### Exercise 7\n",
    "Based on the histogram and the normal probability plot, does the nearly normal residuals condition appear to be met?"
   ]
  },
  {
   "cell_type": "markdown",
   "metadata": {},
   "source": [
    "*Constant variability*:"
   ]
  },
  {
   "cell_type": "markdown",
   "metadata": {},
   "source": [
    "### Exercise 8 \n",
    "Based on the plot of residuals at the beginning of this section, does the constant variability condition appear to be met?"
   ]
  },
  {
   "cell_type": "markdown",
   "metadata": {},
   "source": [
    "## On Your Own\n",
    "1) Choose another traditional variable from `mlb11` that you think might be a good predictor of runs. Produce a scatterplot of the two variables and fit a linear model. At a glance, does there seem to be a linear relationship?\n",
    "\n",
    "2) How does this relationship compare to the relationship between `runs` and `at_bats`? Use the $R^2$ values from the two model summaries to compare. Does your variable seem to predict `runs` better than `at_bats`? How can you tell?\n",
    "\n",
    "3) Now that you can summarize the linear relationship between two variables, investigate the relationships between runs and each of the other five traditional variables. Which variable best predicts `runs`? Support your conclusion using the graphical and numerical methods we’ve discussed (for the sake of conciseness, only include output for the best variable, not all five).\n",
    "\n",
    "4) Now examine the three newer variables. These are the statistics used by the author of Moneyball to predict a teams success. In general, are they more or less effective at predicting runs that the old variables? Explain using appropriate graphical and numerical evidence. Of all ten variables we’ve analyzed, which seems to be the best predictor of runs? Using the limited (or not so limited) information you know about these baseball statistics, does your result make sense?\n",
    "\n",
    "5) Check the model diagnostics for the regression model with the variable you decided was the best predictor for runs."
   ]
  }
 ],
 "metadata": {
  "kernelspec": {
   "display_name": "Python 3",
   "language": "python",
   "name": "python3"
  },
  "language_info": {
   "codemirror_mode": {
    "name": "ipython",
    "version": 3
   },
   "file_extension": ".py",
   "mimetype": "text/x-python",
   "name": "python",
   "nbconvert_exporter": "python",
   "pygments_lexer": "ipython3",
   "version": "3.5.1"
  }
 },
 "nbformat": 4,
 "nbformat_minor": 0
}
