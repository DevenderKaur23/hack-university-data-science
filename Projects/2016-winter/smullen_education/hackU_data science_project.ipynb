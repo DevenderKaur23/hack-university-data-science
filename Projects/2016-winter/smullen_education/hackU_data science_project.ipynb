{
 "cells": [
  {
   "cell_type": "markdown",
   "metadata": {},
   "source": [
    "Pull in data from datagov API here: http://www.ed.gov/developers\n",
    "\n",
    "modules that have built in geo graphs - put data over state map pull in Oregon county school performance data"
   ]
  },
  {
   "cell_type": "code",
   "execution_count": 1,
   "metadata": {
    "collapsed": false
   },
   "outputs": [],
   "source": [
    "import urllib\n",
    "import pandas as pd\n",
    "import json\n",
    "import numpy as np\n",
    "\n",
    "%matplotlib inline\n",
    "import matplotlib.pyplot as plt\n",
    "import statsmodels.api as sm\n",
    "from statsmodels.graphics.gofplots import qqplot \n",
    "\n",
    "from sklearn.tree import DecisionTreeRegressor, export_graphviz\n",
    "\n",
    "urlStudents = 'https://inventory.data.gov/api/action/datastore_search?resource_id=ea8517bd-a950-482a-bb63-e40736bbd7a4'\n",
    "fileobjStudents = urllib.urlopen(urlStudents)\n",
    "dataStudents = fileobjStudents.read()"
   ]
  },
  {
   "cell_type": "code",
   "execution_count": 2,
   "metadata": {
    "collapsed": false
   },
   "outputs": [],
   "source": [
    "parsed_json_students = json.loads(dataStudents)"
   ]
  },
  {
   "cell_type": "code",
   "execution_count": 3,
   "metadata": {
    "collapsed": false
   },
   "outputs": [],
   "source": [
    "#parsed_json_students['result']['records']"
   ]
  },
  {
   "cell_type": "code",
   "execution_count": 4,
   "metadata": {
    "collapsed": false
   },
   "outputs": [],
   "source": [
    "from pandas.io.json import json_normalize\n",
    "students = json_normalize(parsed_json_students['result']['records'])"
   ]
  },
  {
   "cell_type": "code",
   "execution_count": 5,
   "metadata": {
    "collapsed": true
   },
   "outputs": [],
   "source": [
    "urlFinance = 'https://inventory.data.gov/api/action/datastore_search?resource_id=4dabce7c-756b-44d3-ac41-dfd162dfa93e'\n",
    "fileobjFinanace = urllib.urlopen(urlFinance)\n",
    "dataFinance = fileobjFinanace.read()\n",
    "parsed_json_finance = json.loads(dataFinance)\n",
    "finance = json_normalize(parsed_json_finance['result']['records'])"
   ]
  },
  {
   "cell_type": "code",
   "execution_count": 6,
   "metadata": {
    "collapsed": false
   },
   "outputs": [
    {
     "data": {
      "text/html": [
       "<div>\n",
       "<table border=\"1\" class=\"dataframe\">\n",
       "  <thead>\n",
       "    <tr style=\"text-align: right;\">\n",
       "      <th></th>\n",
       "      <th>Eighth Grade Students</th>\n",
       "      <th>Eleventh Grade Students</th>\n",
       "      <th>Fifth Grade Students</th>\n",
       "      <th>First Grade Students</th>\n",
       "      <th>Fourth Grade Students</th>\n",
       "      <th>Free Lunch Eligible</th>\n",
       "      <th>Individualized Education Program</th>\n",
       "      <th>Kindergarten Students</th>\n",
       "      <th>LEP/ELL Students</th>\n",
       "      <th>Ninth Grade Students</th>\n",
       "      <th>...</th>\n",
       "      <th>Total Students- Black</th>\n",
       "      <th>Total Students- Hispanic</th>\n",
       "      <th>Total Students- Two or more Races</th>\n",
       "      <th>Total Students- White</th>\n",
       "      <th>Total Teachers</th>\n",
       "      <th>Total, All Grades- female</th>\n",
       "      <th>Total, All Grades- male</th>\n",
       "      <th>Twelfth Grade Students</th>\n",
       "      <th>Ungraded Students</th>\n",
       "      <th>_id</th>\n",
       "    </tr>\n",
       "  </thead>\n",
       "  <tbody>\n",
       "    <tr>\n",
       "      <th>0</th>\n",
       "      <td>57992</td>\n",
       "      <td>51962</td>\n",
       "      <td>59897</td>\n",
       "      <td>58448</td>\n",
       "      <td>59117</td>\n",
       "      <td>356929</td>\n",
       "      <td>81216</td>\n",
       "      <td>57665</td>\n",
       "      <td>17559</td>\n",
       "      <td>62615</td>\n",
       "      <td>...</td>\n",
       "      <td>261255</td>\n",
       "      <td>35389</td>\n",
       "      <td>2534</td>\n",
       "      <td>440519</td>\n",
       "      <td>49363.24</td>\n",
       "      <td>368003</td>\n",
       "      <td>387549</td>\n",
       "      <td>49719</td>\n",
       "      <td>None</td>\n",
       "      <td>1</td>\n",
       "    </tr>\n",
       "  </tbody>\n",
       "</table>\n",
       "<p>1 rows × 34 columns</p>\n",
       "</div>"
      ],
      "text/plain": [
       "  Eighth Grade Students  Eleventh Grade Students  Fifth Grade Students   \\\n",
       "0                  57992                    51962                 59897   \n",
       "\n",
       "  First Grade Students  Fourth Grade Students  Free Lunch Eligible   \\\n",
       "0                 58448                  59117               356929   \n",
       "\n",
       "  Individualized Education Program  Kindergarten Students  LEP/ELL Students   \\\n",
       "0                             81216                  57665             17559   \n",
       "\n",
       "  Ninth Grade Students  ... Total Students- Black  Total Students- Hispanic   \\\n",
       "0                 62615 ...                 261255                     35389   \n",
       "\n",
       "  Total Students- Two or more Races  Total Students- White  Total Teachers   \\\n",
       "0                               2534                 440519        49363.24   \n",
       "\n",
       "  Total, All Grades- female  Total, All Grades- male  Twelfth Grade Students   \\\n",
       "0                     368003                   387549                   49719   \n",
       "\n",
       "  Ungraded Students  _id  \n",
       "0               None   1  \n",
       "\n",
       "[1 rows x 34 columns]"
      ]
     },
     "execution_count": 6,
     "metadata": {},
     "output_type": "execute_result"
    }
   ],
   "source": [
    "students.head(n=1)"
   ]
  },
  {
   "cell_type": "code",
   "execution_count": 7,
   "metadata": {
    "collapsed": false
   },
   "outputs": [
    {
     "data": {
      "text/html": [
       "<div>\n",
       "<table border=\"1\" class=\"dataframe\">\n",
       "  <thead>\n",
       "    <tr style=\"text-align: right;\">\n",
       "      <th></th>\n",
       "      <th>Federal Revenues</th>\n",
       "      <th>Instruction Expenditures</th>\n",
       "      <th>Loc Rev- Intermediate Agencies</th>\n",
       "      <th>Local Revenue- Subtotal</th>\n",
       "      <th>Non-Instruction Expenditures</th>\n",
       "      <th>State Name</th>\n",
       "      <th>State Revenues</th>\n",
       "      <th>Support Services Expenditures</th>\n",
       "      <th>Total Current Expend- Public El-Sec</th>\n",
       "      <th>Total Expenditures for Education</th>\n",
       "      <th>Total Revenues</th>\n",
       "      <th>_id</th>\n",
       "    </tr>\n",
       "  </thead>\n",
       "  <tbody>\n",
       "    <tr>\n",
       "      <th>0</th>\n",
       "      <td>$1168015841</td>\n",
       "      <td>$3902381169</td>\n",
       "      <td>$26720185</td>\n",
       "      <td>$2244801388</td>\n",
       "      <td>$444114726</td>\n",
       "      <td>Alabama</td>\n",
       "      <td>$3800153264</td>\n",
       "      <td>$2324020814</td>\n",
       "      <td>$6670516709</td>\n",
       "      <td>$7646087117</td>\n",
       "      <td>$7239690678</td>\n",
       "      <td>1</td>\n",
       "    </tr>\n",
       "  </tbody>\n",
       "</table>\n",
       "</div>"
      ],
      "text/plain": [
       "  Federal Revenues  Instruction Expenditures  Loc Rev- Intermediate Agencies   \\\n",
       "0       $1168015841               $3902381169                       $26720185   \n",
       "\n",
       "  Local Revenue- Subtotal  Non-Instruction Expenditures  State Name  \\\n",
       "0              $2244801388                    $444114726    Alabama   \n",
       "\n",
       "  State Revenues  Support Services Expenditures   \\\n",
       "0     $3800153264                    $2324020814   \n",
       "\n",
       "  Total Current Expend- Public El-Sec  Total Expenditures for Education   \\\n",
       "0                          $6670516709                       $7646087117   \n",
       "\n",
       "  Total Revenues   _id  \n",
       "0     $7239690678    1  "
      ]
     },
     "execution_count": 7,
     "metadata": {},
     "output_type": "execute_result"
    }
   ],
   "source": [
    "finance.head(n=1)"
   ]
  },
  {
   "cell_type": "code",
   "execution_count": 8,
   "metadata": {
    "collapsed": false
   },
   "outputs": [
    {
     "data": {
      "text/plain": [
       "Index([u'eighthgradestudents', u'eleventhgradestudents', u'fifthgradestudents',\n",
       "       u'firstgradestudents', u'fourthgradestudents', u'freeluncheligible',\n",
       "       u'individualizededucationprogram', u'kindergartenstudents',\n",
       "       u'lep/ellstudents', u'ninthgradestudents', u'prekindergartenstudents',\n",
       "       u'pupil/teacherratio', u'reduced-priceluncheligible',\n",
       "       u'secondgradestudents', u'seventhgradestudents', u'sixthgradestudents',\n",
       "       u'statename', u'tenthgradestudents', u'thirdgradestudents',\n",
       "       u'totalnumberofschools', u'totalstaff', u'totalstudents',\n",
       "       u'totalstudents-amerind/aknative',\n",
       "       u'totalstudents-asian/pacificislander', u'totalstudents-black',\n",
       "       u'totalstudents-hispanic', u'totalstudents-twoormoreraces',\n",
       "       u'totalstudents-white', u'totalteachers', u'total,allgrades-female',\n",
       "       u'total,allgrades-male', u'twelfthgradestudents', u'ungradedstudents',\n",
       "       u'_id'],\n",
       "      dtype='object')"
      ]
     },
     "execution_count": 8,
     "metadata": {},
     "output_type": "execute_result"
    }
   ],
   "source": [
    "#change columns to lower case, remove whitespace and trim ends\n",
    "students.columns = [x.lower() for x in students.columns]\n",
    "students.columns = [x.replace(' ','') for x in students.columns]\n",
    "students.columns"
   ]
  },
  {
   "cell_type": "code",
   "execution_count": 9,
   "metadata": {
    "collapsed": false
   },
   "outputs": [],
   "source": [
    "#students[list(students.columns[[8]])] \n",
    "\n",
    "includeFields = [ 'freeluncheligible','individualizededucationprogram','lep/ellstudents', 'pupil/teacherratio',\n",
    "                'reduced-priceluncheligible', 'statename', 'totalnumberofschools', 'totalstaff', 'totalstudents',\n",
    "                'totalstudents-amerind/aknative','totalstudents-asian/pacificislander', 'totalstudents-black',\n",
    "                'totalstudents-hispanic', 'totalstudents-twoormoreraces', 'totalstudents-white', \n",
    "                'totalteachers', 'total,allgrades-female',  'total,allgrades-male']\n",
    "\n",
    "#students1 = students[students.columns[ListInclude]]\n",
    "students1 = students.ix[:,includeFields]\n",
    "\n",
    "#students[students.colnames[ListInclude]]\n",
    "#students[list(students.columns[5:7] | students.columns[[8]] | students.columns[11:13] | students.columns[16] | )] \n",
    "\n",
    "\n",
    "#col_start = students.columns.get_loc('totalnumberofschools')\n",
    "#col_end = students.columns.get_loc('total,allgrades-male')\n",
    "#student_setb = students.ix[:,col_start:col_end+1]\n",
    "#student_setb.head(n=3)\n"
   ]
  },
  {
   "cell_type": "code",
   "execution_count": 10,
   "metadata": {
    "collapsed": false,
    "scrolled": true
   },
   "outputs": [
    {
     "data": {
      "text/html": [
       "<div>\n",
       "<table border=\"1\" class=\"dataframe\">\n",
       "  <thead>\n",
       "    <tr style=\"text-align: right;\">\n",
       "      <th></th>\n",
       "      <th>freeluncheligible</th>\n",
       "      <th>individualizededucationprogram</th>\n",
       "      <th>lep/ellstudents</th>\n",
       "    </tr>\n",
       "  </thead>\n",
       "  <tbody>\n",
       "    <tr>\n",
       "      <th>0</th>\n",
       "      <td>356929</td>\n",
       "      <td>81216</td>\n",
       "      <td>17559</td>\n",
       "    </tr>\n",
       "    <tr>\n",
       "      <th>1</th>\n",
       "      <td>42028</td>\n",
       "      <td>18048</td>\n",
       "      <td>14963</td>\n",
       "    </tr>\n",
       "    <tr>\n",
       "      <th>2</th>\n",
       "      <td>374905</td>\n",
       "      <td>125806</td>\n",
       "      <td>76320</td>\n",
       "    </tr>\n",
       "  </tbody>\n",
       "</table>\n",
       "</div>"
      ],
      "text/plain": [
       "  freeluncheligible individualizededucationprogram lep/ellstudents\n",
       "0            356929                          81216           17559\n",
       "1             42028                          18048           14963\n",
       "2            374905                         125806           76320"
      ]
     },
     "execution_count": 10,
     "metadata": {},
     "output_type": "execute_result"
    }
   ],
   "source": [
    "#students.tail(n=10)\n",
    "#iloc if send a number students.iloc[0:3,2] - python with just return the series\n",
    "#but if include  brackets around single digit OR slice then python will return df students.iloc[0:3:,0:1] students.iloc[0:3,[1]]\n",
    "students1.iloc[0:3:,0:3]\n"
   ]
  },
  {
   "cell_type": "code",
   "execution_count": 11,
   "metadata": {
    "collapsed": false
   },
   "outputs": [
    {
     "data": {
      "text/plain": [
       "['freeluncheligible',\n",
       " 'individualizededucationprogram',\n",
       " 'lep/ellstudents',\n",
       " 'pupil/teacherratio',\n",
       " 'reduced-priceluncheligible',\n",
       " 'totalnumberofschools',\n",
       " 'totalstaff',\n",
       " 'totalstudents',\n",
       " 'totalstudents-amerind/aknative',\n",
       " 'totalstudents-asian/pacificislander',\n",
       " 'totalstudents-black',\n",
       " 'totalstudents-hispanic',\n",
       " 'totalstudents-twoormoreraces',\n",
       " 'totalstudents-white',\n",
       " 'totalteachers',\n",
       " 'total,allgrades-female',\n",
       " 'total,allgrades-male']"
      ]
     },
     "execution_count": 11,
     "metadata": {},
     "output_type": "execute_result"
    }
   ],
   "source": [
    "listNumbers = includeFields\n",
    "listNumbers.remove('statename')\n",
    "listNumbers"
   ]
  },
  {
   "cell_type": "code",
   "execution_count": 12,
   "metadata": {
    "collapsed": false
   },
   "outputs": [],
   "source": [
    "#this only works if I do one individual series first - then try on multiple\n",
    "#students1.ix[:,listNumbers] = students1.ix[:,listNumbers].astype(float)\n",
    "#students1.info()\n",
    "#does not work but watch this..\n",
    "#students1['totalstudents'] = students1['totalstudents'].astype(float)\n",
    "#students1.ix[:,listNumbers] = students1.ix[:,listNumbers].astype(float)\n",
    "#students1.info()"
   ]
  },
  {
   "cell_type": "code",
   "execution_count": 13,
   "metadata": {
    "collapsed": false
   },
   "outputs": [],
   "source": [
    "#what about apply or mapapply - how could I have used those here\n",
    "#pd_numeric would not work: pd.to_numeric(students1, errors='ignore')\n",
    "#loop through column titles to cast the types for numeric variables\n",
    "\n",
    "students2 = pd.DataFrame()\n",
    "\n",
    "for c in students1.columns:\n",
    "    if c == 'pupil/teacherratio':\n",
    "        students2[c] = students1[c].astype(float)\n",
    "    \n",
    "    elif not c == 'statename':\n",
    "        students2[c] = students1[c].astype(float) / students1['totalstudents'].astype(float)\n",
    "    \n",
    "    else:\n",
    "        students2[c] = students1[c]"
   ]
  },
  {
   "cell_type": "code",
   "execution_count": 14,
   "metadata": {
    "collapsed": false
   },
   "outputs": [],
   "source": [
    "#Get performance data from NAEP: https://inventory.data.gov/dataset/c25ae6bf-66c3-4a7d-867f-2cceeba5c039/resource/c9a98ee3-e3b3-4b0b-ac26-8378c18b4550\n",
    "urlPerformance = 'https://inventory.data.gov/api/action/datastore_search?resource_id=c9a98ee3-e3b3-4b0b-ac26-8378c18b4550'\n",
    "fileobjPerformance = urllib.urlopen(urlPerformance)\n",
    "dataPerformance = fileobjPerformance.read()"
   ]
  },
  {
   "cell_type": "code",
   "execution_count": 15,
   "metadata": {
    "collapsed": false
   },
   "outputs": [],
   "source": [
    "parsed_json_performance = json.loads(dataPerformance)\n",
    "performance = json_normalize(parsed_json_performance['result']['records'])\n",
    "performance = performance.replace('',np.nan)\n",
    "#change columns to lower case, remove whitespace and trim ends\n",
    "performance.columns = [x.lower() for x in performance.columns]\n",
    "performance.columns = [x.replace(' ','') for x in performance.columns]"
   ]
  },
  {
   "cell_type": "code",
   "execution_count": 16,
   "metadata": {
    "collapsed": false
   },
   "outputs": [],
   "source": [
    "perform1 = performance.iloc[:,8:16]\n",
    "perform2 = performance['statename']\n",
    "perform3 = pd.concat([perform1, perform2], axis=1)"
   ]
  },
  {
   "cell_type": "code",
   "execution_count": 17,
   "metadata": {
    "collapsed": false
   },
   "outputs": [],
   "source": [
    "perform3_numeric = pd.DataFrame()\n",
    "\n",
    "for c in perform3.columns:\n",
    "    if not c == 'statename':\n",
    "        perform3_numeric[c] = perform3[c].str.rstrip(to_strip='%').astype(float, raise_on_error=False)/100\n",
    "    \n",
    "    else: perform3_numeric[c] = perform3[c]"
   ]
  },
  {
   "cell_type": "code",
   "execution_count": 18,
   "metadata": {
    "collapsed": false
   },
   "outputs": [
    {
     "data": {
      "text/html": [
       "<div>\n",
       "<table border=\"1\" class=\"dataframe\">\n",
       "  <thead>\n",
       "    <tr style=\"text-align: right;\">\n",
       "      <th></th>\n",
       "      <th>%ofstudentsatorabovebasic-grade4math</th>\n",
       "      <th>%ofstudentsatorabovebasic-grade4reading</th>\n",
       "      <th>%ofstudentsatorabovebasic-grade4science</th>\n",
       "      <th>%ofstudentsatorabovebasic-grade4writing</th>\n",
       "      <th>%ofstudentsatorabovebasic-grade8math</th>\n",
       "      <th>%ofstudentsatorabovebasic-grade8reading</th>\n",
       "      <th>%ofstudentsatorabovebasic-grade8science</th>\n",
       "      <th>%ofstudentsatorabovebasic-grade8writing</th>\n",
       "    </tr>\n",
       "  </thead>\n",
       "  <tbody>\n",
       "    <tr>\n",
       "      <th>count</th>\n",
       "      <td>52.000000</td>\n",
       "      <td>52.000000</td>\n",
       "      <td>45.000000</td>\n",
       "      <td>45.000000</td>\n",
       "      <td>52.000000</td>\n",
       "      <td>52.000000</td>\n",
       "      <td>45.000000</td>\n",
       "      <td>46.000000</td>\n",
       "    </tr>\n",
       "    <tr>\n",
       "      <th>mean</th>\n",
       "      <td>0.817692</td>\n",
       "      <td>0.667692</td>\n",
       "      <td>0.688444</td>\n",
       "      <td>0.848444</td>\n",
       "      <td>0.724231</td>\n",
       "      <td>0.737885</td>\n",
       "      <td>0.608222</td>\n",
       "      <td>0.877174</td>\n",
       "    </tr>\n",
       "    <tr>\n",
       "      <th>std</th>\n",
       "      <td>0.067957</td>\n",
       "      <td>0.077576</td>\n",
       "      <td>0.091675</td>\n",
       "      <td>0.046268</td>\n",
       "      <td>0.087455</td>\n",
       "      <td>0.076166</td>\n",
       "      <td>0.101316</td>\n",
       "      <td>0.031879</td>\n",
       "    </tr>\n",
       "    <tr>\n",
       "      <th>min</th>\n",
       "      <td>0.560000</td>\n",
       "      <td>0.390000</td>\n",
       "      <td>0.450000</td>\n",
       "      <td>0.730000</td>\n",
       "      <td>0.400000</td>\n",
       "      <td>0.480000</td>\n",
       "      <td>0.400000</td>\n",
       "      <td>0.800000</td>\n",
       "    </tr>\n",
       "    <tr>\n",
       "      <th>25%</th>\n",
       "      <td>0.780000</td>\n",
       "      <td>0.627500</td>\n",
       "      <td>0.640000</td>\n",
       "      <td>0.820000</td>\n",
       "      <td>0.677500</td>\n",
       "      <td>0.700000</td>\n",
       "      <td>0.530000</td>\n",
       "      <td>0.852500</td>\n",
       "    </tr>\n",
       "    <tr>\n",
       "      <th>50%</th>\n",
       "      <td>0.835000</td>\n",
       "      <td>0.685000</td>\n",
       "      <td>0.700000</td>\n",
       "      <td>0.850000</td>\n",
       "      <td>0.750000</td>\n",
       "      <td>0.750000</td>\n",
       "      <td>0.630000</td>\n",
       "      <td>0.880000</td>\n",
       "    </tr>\n",
       "    <tr>\n",
       "      <th>75%</th>\n",
       "      <td>0.862500</td>\n",
       "      <td>0.730000</td>\n",
       "      <td>0.760000</td>\n",
       "      <td>0.880000</td>\n",
       "      <td>0.780000</td>\n",
       "      <td>0.790000</td>\n",
       "      <td>0.670000</td>\n",
       "      <td>0.900000</td>\n",
       "    </tr>\n",
       "    <tr>\n",
       "      <th>max</th>\n",
       "      <td>0.920000</td>\n",
       "      <td>0.810000</td>\n",
       "      <td>0.830000</td>\n",
       "      <td>0.940000</td>\n",
       "      <td>0.860000</td>\n",
       "      <td>0.850000</td>\n",
       "      <td>0.770000</td>\n",
       "      <td>0.950000</td>\n",
       "    </tr>\n",
       "  </tbody>\n",
       "</table>\n",
       "</div>"
      ],
      "text/plain": [
       "       %ofstudentsatorabovebasic-grade4math  \\\n",
       "count                             52.000000   \n",
       "mean                               0.817692   \n",
       "std                                0.067957   \n",
       "min                                0.560000   \n",
       "25%                                0.780000   \n",
       "50%                                0.835000   \n",
       "75%                                0.862500   \n",
       "max                                0.920000   \n",
       "\n",
       "       %ofstudentsatorabovebasic-grade4reading  \\\n",
       "count                                52.000000   \n",
       "mean                                  0.667692   \n",
       "std                                   0.077576   \n",
       "min                                   0.390000   \n",
       "25%                                   0.627500   \n",
       "50%                                   0.685000   \n",
       "75%                                   0.730000   \n",
       "max                                   0.810000   \n",
       "\n",
       "       %ofstudentsatorabovebasic-grade4science  \\\n",
       "count                                45.000000   \n",
       "mean                                  0.688444   \n",
       "std                                   0.091675   \n",
       "min                                   0.450000   \n",
       "25%                                   0.640000   \n",
       "50%                                   0.700000   \n",
       "75%                                   0.760000   \n",
       "max                                   0.830000   \n",
       "\n",
       "       %ofstudentsatorabovebasic-grade4writing  \\\n",
       "count                                45.000000   \n",
       "mean                                  0.848444   \n",
       "std                                   0.046268   \n",
       "min                                   0.730000   \n",
       "25%                                   0.820000   \n",
       "50%                                   0.850000   \n",
       "75%                                   0.880000   \n",
       "max                                   0.940000   \n",
       "\n",
       "       %ofstudentsatorabovebasic-grade8math  \\\n",
       "count                             52.000000   \n",
       "mean                               0.724231   \n",
       "std                                0.087455   \n",
       "min                                0.400000   \n",
       "25%                                0.677500   \n",
       "50%                                0.750000   \n",
       "75%                                0.780000   \n",
       "max                                0.860000   \n",
       "\n",
       "       %ofstudentsatorabovebasic-grade8reading  \\\n",
       "count                                52.000000   \n",
       "mean                                  0.737885   \n",
       "std                                   0.076166   \n",
       "min                                   0.480000   \n",
       "25%                                   0.700000   \n",
       "50%                                   0.750000   \n",
       "75%                                   0.790000   \n",
       "max                                   0.850000   \n",
       "\n",
       "       %ofstudentsatorabovebasic-grade8science  \\\n",
       "count                                45.000000   \n",
       "mean                                  0.608222   \n",
       "std                                   0.101316   \n",
       "min                                   0.400000   \n",
       "25%                                   0.530000   \n",
       "50%                                   0.630000   \n",
       "75%                                   0.670000   \n",
       "max                                   0.770000   \n",
       "\n",
       "       %ofstudentsatorabovebasic-grade8writing  \n",
       "count                                46.000000  \n",
       "mean                                  0.877174  \n",
       "std                                   0.031879  \n",
       "min                                   0.800000  \n",
       "25%                                   0.852500  \n",
       "50%                                   0.880000  \n",
       "75%                                   0.900000  \n",
       "max                                   0.950000  "
      ]
     },
     "execution_count": 18,
     "metadata": {},
     "output_type": "execute_result"
    }
   ],
   "source": [
    "perform3_numeric.describe()"
   ]
  },
  {
   "cell_type": "code",
   "execution_count": 19,
   "metadata": {
    "collapsed": false
   },
   "outputs": [
    {
     "data": {
      "text/plain": [
       "Index([   u'%ofstudentsatorabovebasic-grade4math',\n",
       "       u'%ofstudentsatorabovebasic-grade4reading',\n",
       "       u'%ofstudentsatorabovebasic-grade4science',\n",
       "       u'%ofstudentsatorabovebasic-grade4writing',\n",
       "          u'%ofstudentsatorabovebasic-grade8math',\n",
       "       u'%ofstudentsatorabovebasic-grade8reading',\n",
       "       u'%ofstudentsatorabovebasic-grade8science',\n",
       "       u'%ofstudentsatorabovebasic-grade8writing',\n",
       "                                     u'statename',\n",
       "                             u'freeluncheligible',\n",
       "                u'individualizededucationprogram',\n",
       "                               u'lep/ellstudents',\n",
       "                            u'pupil/teacherratio',\n",
       "                    u'reduced-priceluncheligible',\n",
       "                          u'totalnumberofschools',\n",
       "                                    u'totalstaff',\n",
       "                                 u'totalstudents',\n",
       "                u'totalstudents-amerind/aknative',\n",
       "           u'totalstudents-asian/pacificislander',\n",
       "                           u'totalstudents-black',\n",
       "                        u'totalstudents-hispanic',\n",
       "                  u'totalstudents-twoormoreraces',\n",
       "                           u'totalstudents-white',\n",
       "                                 u'totalteachers',\n",
       "                        u'total,allgrades-female',\n",
       "                          u'total,allgrades-male'],\n",
       "      dtype='object')"
      ]
     },
     "execution_count": 19,
     "metadata": {},
     "output_type": "execute_result"
    }
   ],
   "source": [
    "combined = pd.merge(perform3_numeric, students2, on='statename')\n",
    "#combined.describe()\n",
    "combined.columns"
   ]
  },
  {
   "cell_type": "code",
   "execution_count": 20,
   "metadata": {
    "collapsed": false
   },
   "outputs": [
    {
     "name": "stdout",
     "output_type": "stream",
     "text": [
      "<class 'pandas.core.frame.DataFrame'>\n",
      "Int64Index: 52 entries, 0 to 51\n",
      "Data columns (total 12 columns):\n",
      "Federal Revenues                        52 non-null object\n",
      "Instruction Expenditures                52 non-null object\n",
      "Loc Rev- Intermediate Agencies          52 non-null object\n",
      "Local Revenue- Subtotal                 52 non-null object\n",
      "Non-Instruction Expenditures            52 non-null object\n",
      "State Name                              52 non-null object\n",
      "State Revenues                          52 non-null object\n",
      "Support Services Expenditures           52 non-null object\n",
      "Total Current Expend- Public El-Sec     52 non-null object\n",
      "Total Expenditures for Education        52 non-null object\n",
      "Total Revenues                          52 non-null object\n",
      "_id                                     52 non-null int64\n",
      "dtypes: int64(1), object(11)\n",
      "memory usage: 5.3+ KB\n"
     ]
    }
   ],
   "source": [
    "finance.info()"
   ]
  },
  {
   "cell_type": "code",
   "execution_count": 21,
   "metadata": {
    "collapsed": false
   },
   "outputs": [
    {
     "data": {
      "text/plain": [
       "<matplotlib.collections.PathCollection at 0x1f3cc828>"
      ]
     },
     "execution_count": 21,
     "metadata": {},
     "output_type": "execute_result"
    },
    {
     "data": {
      "image/png": "[encoded data removed]",
      "text/plain": [
       "<matplotlib.figure.Figure at 0xbe3a048>"
      ]
     },
     "metadata": {},
     "output_type": "display_data"
    }
   ],
   "source": [
    "%matplotlib inline\n",
    "import numpy as np\n",
    "import matplotlib.pyplot as plt\n",
    "\n",
    "plt.scatter(combined['pupil/teacherratio'], combined['individualizededucationprogram'], )\n",
    "\n",
    "# plt.figure(figsize=(20,10))\n",
    "# state_group = combined.groupby('statename')\n",
    "# state_totals = state_group.sum() \n",
    "# state_totals.plot(y = 'freeluncheligible', kind = 'bar')\n",
    "#plt.plot(x = students2['statename'],y = students2['freeluncheligible'], kind = 'bar')\n",
    "#plt.show()"
   ]
  },
  {
   "cell_type": "code",
   "execution_count": 22,
   "metadata": {
    "collapsed": true
   },
   "outputs": [],
   "source": [
    "graphFields = [ '%ofstudentsatorabovebasic-grade4reading',\n",
    "                                     'statename',\n",
    "                             'freeluncheligible',\n",
    "                'individualizededucationprogram',\n",
    "                               'lep/ellstudents',\n",
    "                            'pupil/teacherratio',\n",
    "                    'reduced-priceluncheligible',]"
   ]
  },
  {
   "cell_type": "code",
   "execution_count": 23,
   "metadata": {
    "collapsed": false
   },
   "outputs": [],
   "source": [
    "graphdata = combined.ix[:,graphFields]"
   ]
  },
  {
   "cell_type": "code",
   "execution_count": 24,
   "metadata": {
    "collapsed": false
   },
   "outputs": [],
   "source": [
    "#graphdata = combined.ix[:,graphFields]\n",
    "graphdata['color'] = [\"r\" if statename == \"Oregon\" else \"b\" for statename in graphdata.statename.unique()]"
   ]
  },
  {
   "cell_type": "markdown",
   "metadata": {},
   "source": [
    "Based on the plots below, there appears does to be a relationship between 4th grade reading and the following attributes:\n",
    "free or reduced lunch, ratio of students eligible for sped, ratio of Eng Lang Learners, teacher to student ratio"
   ]
  },
  {
   "cell_type": "code",
   "execution_count": 25,
   "metadata": {
    "collapsed": false
   },
   "outputs": [
    {
     "name": "stderr",
     "output_type": "stream",
     "text": [
      "C:\\Anaconda2\\lib\\site-packages\\matplotlib\\figure.py:397: UserWarning: matplotlib is currently using a non-GUI backend, so cannot show the figure\n",
      "  \"matplotlib is currently using a non-GUI backend, \"\n"
     ]
    },
    {
     "data": {
      "image/png": "[encoded data removed]",
      "text/plain": [
       "<matplotlib.figure.Figure at 0x1f7172b0>"
      ]
     },
     "metadata": {},
     "output_type": "display_data"
    }
   ],
   "source": [
    "%matplotlib inline\n",
    "import numpy as np\n",
    "import pandas as pd\n",
    "import seaborn as sns\n",
    "from scipy import stats\n",
    "import matplotlib as mpl\n",
    "import matplotlib.pyplot as pltmport \n",
    "import pandas as pd\n",
    "import seaborn as sns\n",
    "from scipy import stats\n",
    "import matplotlib as mpl\n",
    "import matplotlib.pyplot as plt\n",
    "\n",
    "sns.set_color_codes()\n",
    "g = sns.pairplot(data = graphdata.dropna(), hue=\"color\", palette = \"Set2\").fig.show()\n"
   ]
  },
  {
   "cell_type": "code",
   "execution_count": 26,
   "metadata": {
    "collapsed": false
   },
   "outputs": [
    {
     "name": "stdout",
     "output_type": "stream",
     "text": [
      "                                       OLS Regression Results                                      \n",
      "===================================================================================================\n",
      "Dep. Variable:     %ofstudentsatorabovebasic-grade4reading   R-squared:                       0.668\n",
      "Model:                                                 OLS   Adj. R-squared:                  0.632\n",
      "Method:                                      Least Squares   F-statistic:                     18.48\n",
      "Date:                                     Tue, 29 Mar 2016   Prob (F-statistic):           5.00e-10\n",
      "Time:                                             18:37:19   Log-Likelihood:                 88.301\n",
      "No. Observations:                                       52   AIC:                            -164.6\n",
      "Df Residuals:                                           46   BIC:                            -152.9\n",
      "Df Model:                                                5                                         \n",
      "Covariance Type:                                 nonrobust                                         \n",
      "==================================================================================================\n",
      "                                     coef    std err          t      P>|t|      [95.0% Conf. Int.]\n",
      "--------------------------------------------------------------------------------------------------\n",
      "const                              1.0024      0.092     10.925      0.000         0.818     1.187\n",
      "freeluncheligible                 -0.5772      0.067     -8.659      0.000        -0.711    -0.443\n",
      "individualizededucationprogram     0.0772      0.373      0.207      0.837        -0.674     0.828\n",
      "lep/ellstudents                   -0.0491      0.181     -0.271      0.787        -0.413     0.315\n",
      "pupil/teacherratio                -0.0055      0.003     -1.974      0.054        -0.011     0.000\n",
      "reduced-priceluncheligible        -0.4590      0.488     -0.940      0.352        -1.441     0.523\n",
      "==============================================================================\n",
      "Omnibus:                        7.037   Durbin-Watson:                   2.437\n",
      "Prob(Omnibus):                  0.030   Jarque-Bera (JB):                6.337\n",
      "Skew:                          -0.637   Prob(JB):                       0.0421\n",
      "Kurtosis:                       4.142   Cond. No.                     1.19e+03\n",
      "==============================================================================\n",
      "\n",
      "Warnings:\n",
      "[1] Standard Errors assume that the covariance matrix of the errors is correctly specified.\n",
      "[2] The condition number is large, 1.19e+03. This might indicate that there are\n",
      "strong multicollinearity or other numerical problems.\n"
     ]
    }
   ],
   "source": [
    "model1X = graphdata[['freeluncheligible','individualizededucationprogram'\n",
    "                     ,'lep/ellstudents', 'pupil/teacherratio', 'reduced-priceluncheligible']]\n",
    "model1Y = graphdata['%ofstudentsatorabovebasic-grade4reading']\n",
    "features =['freeluncheligible','individualizededucationprogram'\n",
    "                     ,'lep/ellstudents', 'pupil/teacherratio', 'reduced-priceluncheligible']\n",
    "model1x = sm.add_constant(model1X)\n",
    "model1 = sm.OLS(model1Y, model1x)\n",
    "results1 = model1.fit()\n",
    "print (results1.summary())"
   ]
  },
  {
   "cell_type": "code",
   "execution_count": 27,
   "metadata": {
    "collapsed": false
   },
   "outputs": [],
   "source": [
    "from sklearn.tree import DecisionTreeClassifier\n",
    "from sklearn import tree\n",
    "from sklearn import datasets\n",
    "\n",
    "\n",
    "def visualize_tree(tree, feature_names):\n",
    "    \"\"\"Create tree png using graphviz.\n",
    "\n",
    "    Args\n",
    "    ----\n",
    "    tree -- scikit-learn DecsisionTree.\n",
    "    feature_names -- list of feature names.\n",
    "    \"\"\"\n",
    "    with open(\"dt.dot\", 'w') as f:\n",
    "        export_graphviz(tree, out_file=f,\n",
    "                        feature_names=feature_names)\n",
    "\n",
    "    command = [ \"dot\", \"-Tpng\", \"dt.dot\", \"-o\", \"dt.png\"]\n",
    "    try:\n",
    "        subprocess.check_call(command)\n",
    "    except:\n",
    "        exit(\"Could not run dot, ie graphviz, to \"\n",
    "             \"produce visualization\")\n",
    "\n",
    "\n",
    "\n",
    "# # Decision Tree Regression\n",
    "# rlt = DecisionTreeRegressor(min_samples_split=4, random_state=99)\n",
    "# rlt.fit(model1X, model1Y)\n",
    "\n",
    "#dot_file = tree.export_graphviz(rlt.tree_, out_file='tree_d1.dot', feature_names=features)  #export the tree to .dot file\n",
    "# #dot_file.close() #close that dot file.\n",
    "\n"
   ]
  },
  {
   "cell_type": "code",
   "execution_count": 28,
   "metadata": {
    "collapsed": false
   },
   "outputs": [
    {
     "ename": "NameError",
     "evalue": "name 'rlt' is not defined",
     "output_type": "error",
     "traceback": [
      "\u001b[1;31m---------------------------------------------------------------------------\u001b[0m",
      "\u001b[1;31mNameError\u001b[0m                                 Traceback (most recent call last)",
      "\u001b[1;32m<ipython-input-28-8b869c6318bc>\u001b[0m in \u001b[0;36m<module>\u001b[1;34m()\u001b[0m\n\u001b[1;32m----> 1\u001b[1;33m \u001b[0mvisualize_tree\u001b[0m\u001b[1;33m(\u001b[0m\u001b[0mrlt\u001b[0m\u001b[1;33m,\u001b[0m \u001b[0mfeatures\u001b[0m\u001b[1;33m)\u001b[0m\u001b[1;33m\u001b[0m\u001b[0m\n\u001b[0m",
      "\u001b[1;31mNameError\u001b[0m: name 'rlt' is not defined"
     ]
    }
   ],
   "source": [
    "visualize_tree(rlt, features)"
   ]
  }
 ],
 "metadata": {
  "kernelspec": {
   "display_name": "Python 2",
   "language": "python",
   "name": "python2"
  },
  "language_info": {
   "codemirror_mode": {
    "name": "ipython",
    "version": 2
   },
   "file_extension": ".py",
   "mimetype": "text/x-python",
   "name": "python",
   "nbconvert_exporter": "python",
   "pygments_lexer": "ipython2",
   "version": "2.7.11"
  }
 },
 "nbformat": 4,
 "nbformat_minor": 0
}
