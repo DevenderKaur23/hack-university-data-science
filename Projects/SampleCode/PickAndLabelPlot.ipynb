{
 "cells": [
  {
   "cell_type": "markdown",
   "metadata": {},
   "source": [
    "## Display label for chosen point\n",
    "This code will create a graph that will display a label for a point when you click on it. Note that the interactive plot is not saved from one session to the next, so you must run all the cells to create the plot to try it out."
   ]
  },
  {
   "cell_type": "code",
   "execution_count": null,
   "metadata": {
    "collapsed": true
   },
   "outputs": [],
   "source": [
    "%matplotlib inline\n",
    "%matplotlib nbagg\n",
    "import matplotlib.pyplot as plt\n",
    "import pandas as pd"
   ]
  },
  {
   "cell_type": "code",
   "execution_count": null,
   "metadata": {
    "collapsed": true
   },
   "outputs": [],
   "source": [
    "# Create some sample data\n",
    "df = pd.DataFrame(data={\"x\":[1,2,3,4], \"y\":[10,20,30,40]}, index=[\"OR\", \"WA\", \"CA\", \"ID\"])"
   ]
  },
  {
   "cell_type": "code",
   "execution_count": null,
   "metadata": {
    "collapsed": false
   },
   "outputs": [],
   "source": [
    "# Click on point, state name appears in title area\n",
    "def onpick(g, labels, event):\n",
    "    ind = event.ind[0]\n",
    "    g.set_title(labels[ind])\n",
    "    return\n",
    "\n",
    "fig = plt.figure()\n",
    "g = fig.add_subplot(111)\n",
    "\n",
    "g.scatter(df.x, df.y, picker=True)\n",
    "g.set_title(\"Click on point to display label\")\n",
    "fig.canvas.mpl_connect('pick_event', lambda e: onpick(g, df.index, e))"
   ]
  }
 ],
 "metadata": {
  "kernelspec": {
   "display_name": "Python 3",
   "language": "python",
   "name": "python3"
  },
  "language_info": {
   "codemirror_mode": {
    "name": "ipython",
    "version": 3
   },
   "file_extension": ".py",
   "mimetype": "text/x-python",
   "name": "python",
   "nbconvert_exporter": "python",
   "pygments_lexer": "ipython3",
   "version": "3.5.1"
  }
 },
 "nbformat": 4,
 "nbformat_minor": 0
}
