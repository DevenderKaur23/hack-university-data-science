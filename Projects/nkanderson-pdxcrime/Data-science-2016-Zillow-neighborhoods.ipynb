{
 "cells": [
  {
   "cell_type": "code",
   "execution_count": 4,
   "metadata": {
    "collapsed": true
   },
   "outputs": [],
   "source": [
    "from IPython.display import HTML"
   ]
  },
  {
   "cell_type": "markdown",
   "metadata": {},
   "source": [
    "<h3>Zillow & PDX neighborhoods</h3>\n",
    "<h6><a href=\"http://www.zillow.com/research/data/\">Zillow Research Data</a></h6>\n",
    "<em>Historic data going back about 20 years, aggregated by neighborhood.</em>\n",
    "<h6><a href=\"http://www.civicapps.org/datasets/neighborhood-associations\">Civicapps.org, neighborhood associations</a></h6>\n",
    "<em>Neighborhood association boundaries in the City of Portland.</em>\n",
    "<h6><a href=\"https://www.portlandoregon.gov/oni/28385\">Portland neighborhood association pages</a>"
   ]
  },
  {
   "cell_type": "markdown",
   "metadata": {},
   "source": [
    "<div style=\"width: 50%; float: left; text-align: center;\">\n",
    "<img src=\"img/zillow-neighborhoods.png\" width=\"350\" height=\"auto\" />\n",
    "<h3>Zillow neighborhoods</h3>\n",
    "</div>\n",
    "<div style=\"width: 50%; float: left; text-align: center;\">\n",
    "<img src=\"img/PDX-neighborhood-association-2009.png\" width=\"350\" height=\"auto\" />\n",
    "<h3>Portland neighborhood association</h3>\n",
    "</div>"
   ]
  },
  {
   "cell_type": "markdown",
   "metadata": {},
   "source": [
    "<hr>\n",
    "<a href=\"http://www.portlandoregon.gov/police/article/382834\">CrimeStats</a><br>\n",
    "<a href=\"docs/2009NewPrecincts_NbhdAssn_update 2010.pdf\">Map from neighborhood crimestats</a><br>\n"
   ]
  },
  {
   "cell_type": "code",
   "execution_count": 8,
   "metadata": {
    "collapsed": false
   },
   "outputs": [
    {
     "data": {
      "text/html": [
       "<iframe src=\"docs/2009NewPrecincts_NbhdAssn_update 2010.pdf\" width=700 height=550></iframe>"
      ],
      "text/plain": [
       "<IPython.core.display.HTML object>"
      ]
     },
     "execution_count": 8,
     "metadata": {},
     "output_type": "execute_result"
    }
   ],
   "source": [
    "HTML('<iframe src=\"docs/2009NewPrecincts_NbhdAssn_update 2010.pdf\" width=700 height=550></iframe>')"
   ]
  },
  {
   "cell_type": "markdown",
   "metadata": {},
   "source": [
    "<hr>\n",
    "<h3>Crime data, 2004-2014</h3>\n",
    "<p>\n",
    "<a href=\"http://civicapps.org/datasets\">Civicapps.org</a>\n",
    "<span> - Downloaded by year, 2/14/2016</span>\n",
    "<br>\n",
    "<span>Ex. - <a href=\"http://civicapps.org/datasets/crime-incidents-2014\">2014</a></span>\n",
    "</p>\n",
    "<p><em>Data description:</em><br>\n",
    "This static file reflects crimes reported to the City of Portland Police Bureau in 2014. Classification of the crime type is based on the Uniform Crime Reporting (UCR) system developed by the FBI and used by law enforcement agencies throughout the United States.</p>"
   ]
  },
  {
   "cell_type": "markdown",
   "metadata": {},
   "source": [
    "<span><a href=\"http://www.portlandoregon.gov/police/46024\">Archive data</a> from the City of Portland</a>"
   ]
  },
  {
   "cell_type": "markdown",
   "metadata": {},
   "source": [
    "<a href=\"http://www.portlandoregon.gov/police/article/28509\">Crime definitions</a><br>\n",
    "<a href=\"http://www.portlandoregon.gov/police/29793\">Police Bureau</a><br>\n",
    "<a href=\"http://www.portlandoregon.gov/police/crimestats/index.cfm\">More crimestats</a>"
   ]
  },
  {
   "cell_type": "code",
   "execution_count": null,
   "metadata": {
    "collapsed": true
   },
   "outputs": [],
   "source": []
  }
 ],
 "metadata": {
  "kernelspec": {
   "display_name": "Python 2",
   "language": "python",
   "name": "python2"
  },
  "language_info": {
   "codemirror_mode": {
    "name": "ipython",
    "version": 2
   },
   "file_extension": ".py",
   "mimetype": "text/x-python",
   "name": "python",
   "nbconvert_exporter": "python",
   "pygments_lexer": "ipython2",
   "version": "2.7.10"
  }
 },
 "nbformat": 4,
 "nbformat_minor": 0
}
