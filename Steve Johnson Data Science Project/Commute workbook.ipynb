{
 "cells": [
  {
   "cell_type": "markdown",
   "metadata": {
    "collapsed": false
   },
   "source": [
    "Steve Johnson, Data Science Project"
   ]
  },
  {
   "cell_type": "code",
   "execution_count": 1,
   "metadata": {
    "collapsed": false
   },
   "outputs": [],
   "source": [
    "%matplotlib inline\n",
    "import pandas as pd\n",
    "import numpy as np\n",
    "import matplotlib.pyplot as plt\n",
    "from scipy.stats import norm\n",
    "import statsmodels.api as sm\n",
    "from statsmodels.graphics.gofplots import qqplot\n",
    "import json\n",
    "\n",
    "import seaborn as sns"
   ]
  },
  {
   "cell_type": "markdown",
   "metadata": {
    "collapsed": true
   },
   "source": [
    "Below is a CSV file that was created from the most recent census data for Portland, Oregon.\n",
    "Data on average commute time per zip code was combined with data on average income by zip code.\n",
    "Each file was aligned by zip code order before combing and other unused data columns were deleted.\n",
    "\n",
    "The question of interest is whether commute time was significantly correlated to income.\n"
   ]
  },
  {
   "cell_type": "code",
   "execution_count": 2,
   "metadata": {
    "collapsed": false,
    "scrolled": true
   },
   "outputs": [
    {
     "data": {
      "text/html": [
       "<div>\n",
       "<table border=\"1\" class=\"dataframe\">\n",
       "  <thead>\n",
       "    <tr style=\"text-align: right;\">\n",
       "      <th></th>\n",
       "      <th>ZIP</th>\n",
       "      <th>Pop</th>\n",
       "      <th>Income</th>\n",
       "      <th>Commute</th>\n",
       "    </tr>\n",
       "  </thead>\n",
       "  <tbody>\n",
       "    <tr>\n",
       "      <th>0</th>\n",
       "      <td>97201</td>\n",
       "      <td>24,960</td>\n",
       "      <td>24050.28</td>\n",
       "      <td>19.1</td>\n",
       "    </tr>\n",
       "    <tr>\n",
       "      <th>1</th>\n",
       "      <td>97202</td>\n",
       "      <td>37,411</td>\n",
       "      <td>18548.37</td>\n",
       "      <td>23.2</td>\n",
       "    </tr>\n",
       "    <tr>\n",
       "      <th>2</th>\n",
       "      <td>97203</td>\n",
       "      <td>27,689</td>\n",
       "      <td>13307.92</td>\n",
       "      <td>25.4</td>\n",
       "    </tr>\n",
       "    <tr>\n",
       "      <th>3</th>\n",
       "      <td>97204</td>\n",
       "      <td>1,319</td>\n",
       "      <td>9343.75</td>\n",
       "      <td>23.6</td>\n",
       "    </tr>\n",
       "    <tr>\n",
       "      <th>4</th>\n",
       "      <td>97205</td>\n",
       "      <td>6,212</td>\n",
       "      <td>14643.55</td>\n",
       "      <td>21.7</td>\n",
       "    </tr>\n",
       "    <tr>\n",
       "      <th>5</th>\n",
       "      <td>97206</td>\n",
       "      <td>45,132</td>\n",
       "      <td>15277.11</td>\n",
       "      <td>26.0</td>\n",
       "    </tr>\n",
       "    <tr>\n",
       "      <th>6</th>\n",
       "      <td>97209</td>\n",
       "      <td>8,107</td>\n",
       "      <td>16935.11</td>\n",
       "      <td>21.7</td>\n",
       "    </tr>\n",
       "    <tr>\n",
       "      <th>7</th>\n",
       "      <td>97210</td>\n",
       "      <td>10,219</td>\n",
       "      <td>25152.35</td>\n",
       "      <td>19.9</td>\n",
       "    </tr>\n",
       "    <tr>\n",
       "      <th>8</th>\n",
       "      <td>97211</td>\n",
       "      <td>31,021</td>\n",
       "      <td>15852.34</td>\n",
       "      <td>22.9</td>\n",
       "    </tr>\n",
       "    <tr>\n",
       "      <th>9</th>\n",
       "      <td>97212</td>\n",
       "      <td>23,187</td>\n",
       "      <td>22939.74</td>\n",
       "      <td>21.0</td>\n",
       "    </tr>\n",
       "    <tr>\n",
       "      <th>10</th>\n",
       "      <td>97213</td>\n",
       "      <td>29,085</td>\n",
       "      <td>19557.27</td>\n",
       "      <td>22.1</td>\n",
       "    </tr>\n",
       "    <tr>\n",
       "      <th>11</th>\n",
       "      <td>97214</td>\n",
       "      <td>22,726</td>\n",
       "      <td>18331.41</td>\n",
       "      <td>22.8</td>\n",
       "    </tr>\n",
       "    <tr>\n",
       "      <th>12</th>\n",
       "      <td>97215</td>\n",
       "      <td>16,707</td>\n",
       "      <td>21075.11</td>\n",
       "      <td>24.3</td>\n",
       "    </tr>\n",
       "    <tr>\n",
       "      <th>13</th>\n",
       "      <td>97216</td>\n",
       "      <td>13,142</td>\n",
       "      <td>14811.67</td>\n",
       "      <td>25.4</td>\n",
       "    </tr>\n",
       "    <tr>\n",
       "      <th>14</th>\n",
       "      <td>97217</td>\n",
       "      <td>29,920</td>\n",
       "      <td>15951.04</td>\n",
       "      <td>22.5</td>\n",
       "    </tr>\n",
       "    <tr>\n",
       "      <th>15</th>\n",
       "      <td>97218</td>\n",
       "      <td>14,171</td>\n",
       "      <td>13707.78</td>\n",
       "      <td>24.7</td>\n",
       "    </tr>\n",
       "    <tr>\n",
       "      <th>16</th>\n",
       "      <td>97219</td>\n",
       "      <td>36,741</td>\n",
       "      <td>24983.33</td>\n",
       "      <td>20.7</td>\n",
       "    </tr>\n",
       "    <tr>\n",
       "      <th>17</th>\n",
       "      <td>97220</td>\n",
       "      <td>27,409</td>\n",
       "      <td>15733.73</td>\n",
       "      <td>22.1</td>\n",
       "    </tr>\n",
       "    <tr>\n",
       "      <th>18</th>\n",
       "      <td>97221</td>\n",
       "      <td>11,613</td>\n",
       "      <td>27875.64</td>\n",
       "      <td>20.2</td>\n",
       "    </tr>\n",
       "    <tr>\n",
       "      <th>19</th>\n",
       "      <td>97222</td>\n",
       "      <td>34,848</td>\n",
       "      <td>17330.08</td>\n",
       "      <td>24.0</td>\n",
       "    </tr>\n",
       "    <tr>\n",
       "      <th>20</th>\n",
       "      <td>97223</td>\n",
       "      <td>44,306</td>\n",
       "      <td>20927.09</td>\n",
       "      <td>21.7</td>\n",
       "    </tr>\n",
       "    <tr>\n",
       "      <th>21</th>\n",
       "      <td>97224</td>\n",
       "      <td>25,049</td>\n",
       "      <td>20878.03</td>\n",
       "      <td>24.0</td>\n",
       "    </tr>\n",
       "    <tr>\n",
       "      <th>22</th>\n",
       "      <td>97225</td>\n",
       "      <td>21,500</td>\n",
       "      <td>24321.10</td>\n",
       "      <td>20.8</td>\n",
       "    </tr>\n",
       "    <tr>\n",
       "      <th>23</th>\n",
       "      <td>97227</td>\n",
       "      <td>3,519</td>\n",
       "      <td>11430.00</td>\n",
       "      <td>19.8</td>\n",
       "    </tr>\n",
       "    <tr>\n",
       "      <th>24</th>\n",
       "      <td>97229</td>\n",
       "      <td>43,745</td>\n",
       "      <td>26346.62</td>\n",
       "      <td>23.0</td>\n",
       "    </tr>\n",
       "    <tr>\n",
       "      <th>25</th>\n",
       "      <td>97230</td>\n",
       "      <td>35,358</td>\n",
       "      <td>16571.08</td>\n",
       "      <td>25.6</td>\n",
       "    </tr>\n",
       "    <tr>\n",
       "      <th>26</th>\n",
       "      <td>97231</td>\n",
       "      <td>4,252</td>\n",
       "      <td>26170.28</td>\n",
       "      <td>27.9</td>\n",
       "    </tr>\n",
       "    <tr>\n",
       "      <th>27</th>\n",
       "      <td>97232</td>\n",
       "      <td>10,618</td>\n",
       "      <td>19863.89</td>\n",
       "      <td>20.9</td>\n",
       "    </tr>\n",
       "    <tr>\n",
       "      <th>28</th>\n",
       "      <td>97233</td>\n",
       "      <td>34,565</td>\n",
       "      <td>12426.41</td>\n",
       "      <td>28.0</td>\n",
       "    </tr>\n",
       "    <tr>\n",
       "      <th>29</th>\n",
       "      <td>97236</td>\n",
       "      <td>32,910</td>\n",
       "      <td>15541.07</td>\n",
       "      <td>26.8</td>\n",
       "    </tr>\n",
       "    <tr>\n",
       "      <th>30</th>\n",
       "      <td>97266</td>\n",
       "      <td>38,069</td>\n",
       "      <td>14157.41</td>\n",
       "      <td>25.7</td>\n",
       "    </tr>\n",
       "    <tr>\n",
       "      <th>31</th>\n",
       "      <td>97267</td>\n",
       "      <td>29,051</td>\n",
       "      <td>19738.89</td>\n",
       "      <td>24.0</td>\n",
       "    </tr>\n",
       "  </tbody>\n",
       "</table>\n",
       "</div>"
      ],
      "text/plain": [
       "      ZIP     Pop    Income  Commute\n",
       "0   97201  24,960  24050.28     19.1\n",
       "1   97202  37,411  18548.37     23.2\n",
       "2   97203  27,689  13307.92     25.4\n",
       "3   97204   1,319   9343.75     23.6\n",
       "4   97205   6,212  14643.55     21.7\n",
       "5   97206  45,132  15277.11     26.0\n",
       "6   97209   8,107  16935.11     21.7\n",
       "7   97210  10,219  25152.35     19.9\n",
       "8   97211  31,021  15852.34     22.9\n",
       "9   97212  23,187  22939.74     21.0\n",
       "10  97213  29,085  19557.27     22.1\n",
       "11  97214  22,726  18331.41     22.8\n",
       "12  97215  16,707  21075.11     24.3\n",
       "13  97216  13,142  14811.67     25.4\n",
       "14  97217  29,920  15951.04     22.5\n",
       "15  97218  14,171  13707.78     24.7\n",
       "16  97219  36,741  24983.33     20.7\n",
       "17  97220  27,409  15733.73     22.1\n",
       "18  97221  11,613  27875.64     20.2\n",
       "19  97222  34,848  17330.08     24.0\n",
       "20  97223  44,306  20927.09     21.7\n",
       "21  97224  25,049  20878.03     24.0\n",
       "22  97225  21,500  24321.10     20.8\n",
       "23  97227   3,519  11430.00     19.8\n",
       "24  97229  43,745  26346.62     23.0\n",
       "25  97230  35,358  16571.08     25.6\n",
       "26  97231   4,252  26170.28     27.9\n",
       "27  97232  10,618  19863.89     20.9\n",
       "28  97233  34,565  12426.41     28.0\n",
       "29  97236  32,910  15541.07     26.8\n",
       "30  97266  38,069  14157.41     25.7\n",
       "31  97267  29,051  19738.89     24.0"
      ]
     },
     "execution_count": 2,
     "metadata": {},
     "output_type": "execute_result"
    }
   ],
   "source": [
    "pd.read_csv('Commute.csv')"
   ]
  },
  {
   "cell_type": "markdown",
   "metadata": {
    "collapsed": true
   },
   "source": [
    "The file was loaded in a pandas data frame and the shape was checked to be sure it was as expected."
   ]
  },
  {
   "cell_type": "code",
   "execution_count": 3,
   "metadata": {
    "collapsed": false
   },
   "outputs": [],
   "source": [
    "commute = pd.read_csv('Commute.csv')"
   ]
  },
  {
   "cell_type": "code",
   "execution_count": 4,
   "metadata": {
    "collapsed": false
   },
   "outputs": [
    {
     "data": {
      "text/plain": [
       "(32, 4)"
      ]
     },
     "execution_count": 4,
     "metadata": {},
     "output_type": "execute_result"
    }
   ],
   "source": [
    "commute.shape"
   ]
  },
  {
   "cell_type": "markdown",
   "metadata": {
    "collapsed": true
   },
   "source": [
    " Below a simple scatter plaot was made as a preliminary review."
   ]
  },
  {
   "cell_type": "code",
   "execution_count": 5,
   "metadata": {
    "collapsed": false
   },
   "outputs": [
    {
     "data": {
      "text/plain": [
       "<matplotlib.text.Text at 0x84b4e10>"
      ]
     },
     "execution_count": 5,
     "metadata": {},
     "output_type": "execute_result"
    },
    {
     "data": {
      "image/png": "[encoded data removed]",
      "text/plain": [
       "<matplotlib.figure.Figure at 0x8447cb0>"
      ]
     },
     "metadata": {},
     "output_type": "display_data"
    }
   ],
   "source": [
    "commute = pd.read_csv('Commute.csv')\n",
    "commute.plot('Income', 'Commute', 'scatter')\n",
    "plt.xlabel('Average Income')\n",
    "plt.ylabel('Average Commute time')\n",
    "plt.title('Income vs Commute Time')\n",
    "#xlim = plt.xlim(5000,30000)\n",
    "#ylim = plt.ylim(18, 30)"
   ]
  },
  {
   "cell_type": "markdown",
   "metadata": {
    "collapsed": true
   },
   "source": [
    "A least squares regression analysis was conducted and the results are diaplayed below.\n",
    "It is important to notice the low R-squared value of 0.154."
   ]
  },
  {
   "cell_type": "code",
   "execution_count": 6,
   "metadata": {
    "collapsed": false
   },
   "outputs": [],
   "source": [
    "model = sm.OLS(commute.Commute, sm.add_constant(commute.Income))"
   ]
  },
  {
   "cell_type": "code",
   "execution_count": 7,
   "metadata": {
    "collapsed": false
   },
   "outputs": [
    {
     "name": "stdout",
     "output_type": "stream",
     "text": [
      "                            OLS Regression Results                            \n",
      "==============================================================================\n",
      "Dep. Variable:                Commute   R-squared:                       0.154\n",
      "Model:                            OLS   Adj. R-squared:                  0.125\n",
      "Method:                 Least Squares   F-statistic:                     5.442\n",
      "Date:                Mon, 12 Dec 2016   Prob (F-statistic):             0.0266\n",
      "Time:                        21:24:03   Log-Likelihood:                -69.784\n",
      "No. Observations:                  32   AIC:                             143.6\n",
      "Df Residuals:                      30   BIC:                             146.5\n",
      "Df Model:                           1                                         \n",
      "Covariance Type:            nonrobust                                         \n",
      "==============================================================================\n",
      "                 coef    std err          t      P>|t|      [95.0% Conf. Int.]\n",
      "------------------------------------------------------------------------------\n",
      "const         26.7475      1.582     16.909      0.000        23.517    29.978\n",
      "Income        -0.0002   8.26e-05     -2.333      0.027        -0.000  -2.4e-05\n",
      "==============================================================================\n",
      "Omnibus:                        3.590   Durbin-Watson:                   1.771\n",
      "Prob(Omnibus):                  0.166   Jarque-Bera (JB):                2.165\n",
      "Skew:                           0.535   Prob(JB):                        0.339\n",
      "Kurtosis:                       3.691   Cond. No.                     7.75e+04\n",
      "==============================================================================\n",
      "\n",
      "Warnings:\n",
      "[1] Standard Errors assume that the covariance matrix of the errors is correctly specified.\n",
      "[2] The condition number is large, 7.75e+04. This might indicate that there are\n",
      "strong multicollinearity or other numerical problems.\n"
     ]
    }
   ],
   "source": [
    "results = model.fit()\n",
    "print(results.summary())"
   ]
  },
  {
   "cell_type": "markdown",
   "metadata": {
    "collapsed": true
   },
   "source": [
    "The fitted line was then plotted against the data as seen below."
   ]
  },
  {
   "cell_type": "code",
   "execution_count": 8,
   "metadata": {
    "collapsed": false
   },
   "outputs": [
    {
     "data": {
      "text/plain": [
       "<matplotlib.text.Text at 0x8802f30>"
      ]
     },
     "execution_count": 8,
     "metadata": {},
     "output_type": "execute_result"
    },
    {
     "data": {
      "image/png": "[encoded data removed]",
      "text/plain": [
       "<matplotlib.figure.Figure at 0x8891390>"
      ]
     },
     "metadata": {},
     "output_type": "display_data"
    }
   ],
   "source": [
    "fig = plt.figure()\n",
    "c = fig.add_subplot(111)\n",
    "c.scatter(commute.Income, commute.Commute)\n",
    "c.plot(commute.Income, results.fittedvalues, 'r')\n",
    "c.set_xlabel('Average Income')\n",
    "c.set_ylabel('Average Commute Time')\n",
    "c.set_title('Income vs. Commute Time \\n Least squares line; slope = -0.2, r^2 = 0.154, P = 0.027')"
   ]
  },
  {
   "cell_type": "markdown",
   "metadata": {
    "collapsed": true
   },
   "source": [
    "The analysis of this data supports a conclusion that there is NOT a strong correlation between \n",
    "average commute time and average income. This could be for a number of reasons.\n",
    "Most significant is that the data given were averages of rather large geographical regions \n",
    "(zip codes).\n",
    "This lead to a flattening of the data with a loss of necessary detail."
   ]
  },
  {
   "cell_type": "markdown",
   "metadata": {
    "collapsed": true
   },
   "source": [
    "In an effort to find a better fit a logarithmic curve was plotted.\n",
    "It was nearly the same as the flat fitted line as seen below."
   ]
  },
  {
   "cell_type": "code",
   "execution_count": 9,
   "metadata": {
    "collapsed": false
   },
   "outputs": [
    {
     "data": {
      "text/plain": [
       "[<matplotlib.lines.Line2D at 0x897ebb0>]"
      ]
     },
     "execution_count": 9,
     "metadata": {},
     "output_type": "execute_result"
    },
    {
     "data": {
      "image/png": "[encoded data removed]",
      "text/plain": [
       "<matplotlib.figure.Figure at 0x8894510>"
      ]
     },
     "metadata": {},
     "output_type": "display_data"
    }
   ],
   "source": [
    "from scipy.optimize import curve_fit\n",
    "\n",
    "fig = plt.figure()\n",
    "c = fig.add_subplot(111)\n",
    "c.scatter(commute.Income, commute.Commute)\n",
    "c.plot(commute.Income, results.fittedvalues, 'r')\n",
    "c.set_xlabel('Average Income')\n",
    "c.set_ylabel('Average Commute Time')\n",
    "c.set_title('Income vs. Commute Time \\n Least squares line; slope = -0.2, r^2 = 0.154, P = 0.027')\n",
    "\n",
    "def myfitfunc(xvals, amp, scale):\n",
    "   return amp * np.exp(scale*xvals)\n",
    "   \n",
    "\n",
    "fit_params = curve_fit(myfitfunc, commute.Income/1000, commute.Commute)\n",
    "plt.plot(commute.Income, myfitfunc(commute.Income/1000, *fit_params[0]))"
   ]
  },
  {
   "cell_type": "code",
   "execution_count": 10,
   "metadata": {
    "collapsed": false
   },
   "outputs": [
    {
     "data": {
      "text/plain": [
       "(array([  2.70134575e+01,  -8.30813926e-03]),\n",
       " array([[  3.33865301e+00,  -6.37292907e-03],\n",
       "        [ -6.37292907e-03,   1.29720520e-05]]))"
      ]
     },
     "execution_count": 10,
     "metadata": {},
     "output_type": "execute_result"
    }
   ],
   "source": [
    "fit_params"
   ]
  },
  {
   "cell_type": "markdown",
   "metadata": {
    "collapsed": true
   },
   "source": [
    "In a further effort to find a better fit a parabolic curve was plotted.\n",
    "It was perhaps an effort in futiliy as the data available is not detailed enough to answer the question asked."
   ]
  },
  {
   "cell_type": "code",
   "execution_count": 11,
   "metadata": {
    "collapsed": false
   },
   "outputs": [
    {
     "data": {
      "text/plain": [
       "[<matplotlib.lines.Line2D at 0x899fbf0>]"
      ]
     },
     "execution_count": 11,
     "metadata": {},
     "output_type": "execute_result"
    },
    {
     "data": {
      "image/png": "[encoded data removed]",
      "text/plain": [
       "<matplotlib.figure.Figure at 0x883f4b0>"
      ]
     },
     "metadata": {},
     "output_type": "display_data"
    }
   ],
   "source": [
    "from scipy.optimize import curve_fit\n",
    "\n",
    "fig = plt.figure()\n",
    "c = fig.add_subplot(111)\n",
    "c.scatter(commute.Income, commute.Commute)\n",
    "c.plot(commute.Income, results.fittedvalues, 'r')\n",
    "c.set_xlabel('Average Income')\n",
    "c.set_ylabel('Average Commute Time')\n",
    "c.set_title('Income vs. Commute Time \\n Least squares line; slope = -0.2, r^2 = 0.154, P = 0.027')\n",
    "\n",
    "def myfitfunc(xvals, slope, intercept):\n",
    "   return slope*xvals**2 + intercept\n",
    "\n",
    "sorted_income = commute.Income.sort_values(inplace=False)\n",
    "commute_nooutlier = commute[~((commute.Income > 25000) & (commute.Commute > 26))]\n",
    "\n",
    "fit_params = curve_fit(myfitfunc, commute_nooutlier.Income/1000, commute_nooutlier.Commute)\n",
    "plt.plot(sorted_income, myfitfunc(sorted_income/1000, *fit_params[0]))"
   ]
  },
  {
   "cell_type": "markdown",
   "metadata": {
    "collapsed": true
   },
   "source": [
    "If data could be found on individual income vs. individual commute time it may prove more \n",
    "interesting to analyze for a significant correlation between them.\n",
    "\n",
    "Steve Johnson, Data Science Project"
   ]
  }
 ],
 "metadata": {
  "anaconda-cloud": {},
  "kernelspec": {
   "display_name": "Python [Root]",
   "language": "python",
   "name": "Python [Root]"
  },
  "language_info": {
   "codemirror_mode": {
    "name": "ipython",
    "version": 3
   },
   "file_extension": ".py",
   "mimetype": "text/x-python",
   "name": "python",
   "nbconvert_exporter": "python",
   "pygments_lexer": "ipython3",
   "version": "3.5.2"
  }
 },
 "nbformat": 4,
 "nbformat_minor": 0
}
